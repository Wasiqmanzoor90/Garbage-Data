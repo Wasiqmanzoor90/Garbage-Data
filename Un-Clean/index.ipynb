{
 "cells": [
  {
   "cell_type": "code",
   "execution_count": null,
   "id": "19eaf57e",
   "metadata": {},
   "outputs": [],
   "source": [
    "import pandas as pd\n",
    "import numpy as np\n",
    "mydata = pd.read_csv('Dataset//Titanic.csv')\n",
    "mydata.head()\n",
    "\n",
    "mydata['Cabin'].isnull().sum()\n",
    "mydata.drop(\"Cabin\", axis=1,inplace=True)\n",
    "# Generate random 10-digit numbers as strings\n",
    "mydata[\"Phone-No\"] = np.random.randint(1000000000, 10000000000, size=891).astype(str)\n",
    "mydata[\"Phone-No\"]=np.random.rand(891)\n",
    "#mydata.drop(\"Phone-No\", axis=1, inplace=True)\n",
    "\n",
    "\n",
    "\n",
    "#unclean number -\n",
    "mydata[\"Phone-No\"]=(\n",
    "    np.random.randint(100,1000,size=891).astype(str)+'-'+\n",
    "    np.random.randint(100,1000, size=891).astype(str)+'-'+\n",
    "    np.random.randint(1000, 10000, size=891).astype(str)\n",
    ")\n",
    "mydata.rename(columns={\"Phone-No\":\"Credit-Card\"},inplace=True)   # change colummn name\n",
    "mydata.head()\n",
    "\n",
    "\n"
   ]
  },
  {
   "cell_type": "code",
   "execution_count": null,
   "id": "c4a335e6",
   "metadata": {},
   "outputs": [],
   "source": []
  },
  {
   "cell_type": "code",
   "execution_count": 13,
   "id": "1adc0b58",
   "metadata": {},
   "outputs": [
    {
     "data": {
      "text/plain": [
       "(891, 13)"
      ]
     },
     "execution_count": 13,
     "metadata": {},
     "output_type": "execute_result"
    }
   ],
   "source": [
    "\n",
    "mydata[\"Phone-No\"] = '-' + np.random.randint(1000000000, 10000000000, size=891).astype(str)\n",
    "mydata.head()\n",
    "mydata.shape\n"
   ]
  },
  {
   "cell_type": "code",
   "execution_count": 25,
   "id": "2b53a11f",
   "metadata": {},
   "outputs": [],
   "source": [
    "# Add a new column 'Address' with 891 random addresses\n",
    "\n",
    "\n",
    "cities = [\"02-New York\", \"ab-Los Angeles\", \"xt-Chicago\", \"900-Houston\", \"klt-Phoenix\", \"93-Philadelphia\", \"121-Dallas\", \"kk-Miami\"]\n",
    "\n",
    "\n",
    "# Add a new column 'Address' with full address as one string per cell\n",
    "mydata[\"Address\"] = [\n",
    "  f\"{np.random.randint(1, 9999)} {np.random.choice(cities)}\"\n",
    "    for _ in range(len(mydata))\n",
    "   \n",
    "]\n",
    "mydata.head()\n",
    "mydata.to_csv('Garbaage-data.csv',index=True)"
   ]
  }
 ],
 "metadata": {
  "kernelspec": {
   "display_name": "base",
   "language": "python",
   "name": "python3"
  },
  "language_info": {
   "codemirror_mode": {
    "name": "ipython",
    "version": 3
   },
   "file_extension": ".py",
   "mimetype": "text/x-python",
   "name": "python",
   "nbconvert_exporter": "python",
   "pygments_lexer": "ipython3",
   "version": "3.13.5"
  }
 },
 "nbformat": 4,
 "nbformat_minor": 5
}
